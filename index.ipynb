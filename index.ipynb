{
  "cells": [
    {
      "cell_type": "markdown",
      "metadata": {},
      "source": [
        "# Description {.unnumbered}\n",
        "\n",
        "Application of Computer Technology and Document Processing in Forestry Management emphasizes learning data analysis techniques using programming routines and prepare professional documents using efficient tools. This course aims to equip students with a solid foundation in computer literacy, document processing, and data handling, using popular software tools such as MS Word, MS Excel, R, RStudio, R Markdown, and QGIS. Upon successful completion of this course, students will be able to:\n",
        "\n",
        "-   Be proficient in document processing using powerful tools on MS Word\n",
        "    -   Prepare an academic report or paper or document using powerful tools\n",
        "    -   Efficiently design and format a long document: avoid manual formatting, use styles, references, layout, etc.\n",
        "-   Be proficient in data handling and summarizing using powerful tools on MS Excel\n",
        "    -   Perform basic calculations (using formulas and functions) and interpret the results\n",
        "    -   Create and interpret basic graphs\n",
        "    -   Generate and interpret pivot tables and pivot charts\n",
        "-   Perform data handling and analysis in R\\RStudio\\R Markdown statistical packages\n",
        "    -   Import/export data\n",
        "    -   Perform basic calculations\n",
        "    -   Create high-quality graphs\n",
        "-   Manage and analyze geodata in QGIS\n",
        "    -   Create projects and organize geodata\n",
        "    -   Perform basic functionality and geoprocessing functions\n",
        "\n",
        "By the end of this course, students will have a strong foundation in computer literacy and data handling that they can use in their academic and professional pursuits.\n",
        "\n",
        "### Version history {.unnumbered}\n",
        "\n",
        "Materials were prepared for the deliveries of the course Computer Application in Forestry, at the Faculty of Forestry, University of British Columbia, April 28, 2023 --- 4:00 PM EDT.\n",
        "\n",
        "### Contributor list\n"
      ],
      "id": "eb1b6b27"
    },
    {
      "cell_type": "code",
      "metadata": {},
      "source": [
        "#| label: tbl-planet-measures\n",
        "#| tbl-cap: Planets\n",
        "\n",
        "from IPython.display import Markdown\n",
        "from tabulate import tabulate\n",
        "table = [[\"Sun\",696000,1989100000],\n",
        "         [\"Earth\",6371,5973.6],\n",
        "         [\"Moon\",1737,73.5],\n",
        "         [\"Mars\",3390,641.85]]\n",
        "Markdown(tabulate(\n",
        "  table, \n",
        "  headers=[\"Planet\",\"R (km)\", \"mass (x 10^29 kg)\"]\n",
        "))"
      ],
      "id": "tbl-planet-measures",
      "execution_count": null,
      "outputs": []
    },
    {
      "cell_type": "markdown",
      "metadata": {},
      "source": [
        "### Citation {.unnumbered}\n",
        "\n",
        "::: callout-tip\n",
        "# How to cite\n",
        "\n",
        "Ahmed, S. (2023, April 28). Application of Computer Technology and Document Processing in Forestry Management. Add DOI.\n",
        ":::\n",
        "\n",
        "# License\n",
        "\n",
        "The online version of this book is licensed under the Creative Commons Attribution-NonCommercial-ShareAlike 4.0 International License. You may share, adapt the content and may distribute your contributions under the same license (CC BY-NC-SA 4.0), but you have to give appropriate credit, and cannot use material for the commercial purposes.\n",
        "\n",
        "### Comments {.unnumbered}\n",
        "\n",
        "For any comments regarding this document, reach out to [me](https://forestry.ubc.ca/faculty-profile/suborna-ahmed/)."
      ],
      "id": "0b990684"
    }
  ],
  "metadata": {
    "kernelspec": {
      "name": "python3",
      "language": "python",
      "display_name": "Python 3 (ipykernel)"
    }
  },
  "nbformat": 4,
  "nbformat_minor": 5
}